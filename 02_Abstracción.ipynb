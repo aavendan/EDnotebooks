{
  "nbformat": 4,
  "nbformat_minor": 0,
  "metadata": {
    "colab": {
      "provenance": [],
      "authorship_tag": "ABX9TyNRITpNbX0DSIPP2IV7BIAV",
      "include_colab_link": true
    },
    "kernelspec": {
      "name": "python3",
      "display_name": "Python 3"
    },
    "language_info": {
      "name": "python"
    }
  },
  "cells": [
    {
      "cell_type": "markdown",
      "metadata": {
        "id": "view-in-github",
        "colab_type": "text"
      },
      "source": [
        "<a href=\"https://colab.research.google.com/github/aavendan/EDnotebooks/blob/main/02_Abstracci%C3%B3n.ipynb\" target=\"_parent\"><img src=\"https://colab.research.google.com/assets/colab-badge.svg\" alt=\"Open In Colab\"/></a>"
      ]
    },
    {
      "cell_type": "markdown",
      "source": [
        "## Antes de comenzar"
      ],
      "metadata": {
        "id": "7Tyl6tpVa5Dr"
      }
    },
    {
      "cell_type": "markdown",
      "source": [
        "\n",
        "1. Copia este cuaderno en tu cuenta de **FIEC - Google Drive**.\n",
        "2. Utiliza la copia del cuaderno en tu Google Drive.\n",
        "3. Cierra el cuaderno original."
      ],
      "metadata": {
        "id": "iKTgbnBzcCAO"
      }
    },
    {
      "cell_type": "markdown",
      "source": [
        "# CCPG1804 - Estructuras de Datos"
      ],
      "metadata": {
        "id": "pnEdpcAl-4t3"
      }
    },
    {
      "cell_type": "markdown",
      "source": [
        "## Abstracción\n",
        "\n",
        "### Objetivo específico\n",
        "\n",
        "*Comprender el concepto de abstracción de un objeto o sistema.*"
      ],
      "metadata": {
        "id": "XH-UG_K3u-r8"
      }
    },
    {
      "cell_type": "markdown",
      "source": [
        "### Definición\n",
        "\n",
        "La abstracción es un principio fundamental en la programación que consiste en la simplificación de la complejidad de un objeto o sistema. **Menos** detalles de implementación y **más** características esenciales."
      ],
      "metadata": {
        "id": "5GRpUAEafaOs"
      }
    },
    {
      "cell_type": "markdown",
      "source": [
        "🤔 Piensa en un carro, ¿Qué es un carro? ¿Qué tiene un carro? ¿Qué hace un carro?"
      ],
      "metadata": {
        "id": "qnKqWP1Uf0vH"
      }
    },
    {
      "cell_type": "markdown",
      "source": [
        "## Abstracción del control\n",
        "\n",
        "**Actividad:** Pruebe la clase **Calculadora.java** y verifique el resultado de la ejecución."
      ],
      "metadata": {
        "id": "_8ZjXyDMtD42"
      }
    },
    {
      "cell_type": "code",
      "execution_count": null,
      "metadata": {
        "id": "l8aMl34Vrm0w",
        "colab": {
          "base_uri": "https://localhost:8080/"
        },
        "outputId": "d4e4d794-de92-46fe-de0e-524dd5567521"
      },
      "outputs": [
        {
          "output_type": "stream",
          "name": "stdout",
          "text": [
            "Writing Calculadora.java\n"
          ]
        }
      ],
      "source": [
        "%%writefile Calculadora.java\n",
        "\n",
        "public class Calculadora {\n",
        "\n",
        "    public static int sumaEnteros(int numero1, int numero2) {\n",
        "      return numero1 + numero2;\n",
        "    }\n",
        "\n",
        "    public static void main(String[] args) {\n",
        "\n",
        "      int numero01 = 23;\n",
        "      int numero02 = 45;\n",
        "\n",
        "      int resultadoSuma01 = Calculadora.sumaEnteros(numero01, numero02);\n",
        "\n",
        "      System.out.println(\"El resultado de la suma de \"+numero01+\" y \"+numero02+\" es \"+resultadoSuma01);\n",
        "\n",
        "    }\n",
        "}\n"
      ]
    },
    {
      "cell_type": "code",
      "source": [
        "!javac Calculadora.java"
      ],
      "metadata": {
        "id": "3bcIk9faojCV"
      },
      "execution_count": null,
      "outputs": []
    },
    {
      "cell_type": "code",
      "source": [
        "!java Calculadora"
      ],
      "metadata": {
        "id": "z70qtl4Coorz",
        "colab": {
          "base_uri": "https://localhost:8080/"
        },
        "outputId": "1c33764f-1265-45ce-8018-99cfbc374d79"
      },
      "execution_count": null,
      "outputs": [
        {
          "output_type": "stream",
          "name": "stdout",
          "text": [
            "El resultado de la suma de 23 y 45 es 68\n"
          ]
        }
      ]
    },
    {
      "cell_type": "markdown",
      "source": [
        "**Actividad:** Modifique la clase **Calculadora.java**, al agregar la función **sumaDecimales** para que sume números con decimales, por ejemplo 3.14 y 56.25. Verifique el resultado de la ejecución de la clase."
      ],
      "metadata": {
        "id": "cO806z93pT0W"
      }
    },
    {
      "cell_type": "code",
      "source": [
        "%%writefile Calculadora.java\n",
        "\n",
        "public class Calculadora {\n",
        "\n",
        "    public static int sumaEnteros(int numero1, int numero2) {\n",
        "      return numero1 + numero2;\n",
        "    }\n",
        "\n",
        "    /*\n",
        "    * Función: sumaDecimales\n",
        "    * Argumentos: double numero1, double numero2\n",
        "    * Resultado: Retorna la suma de dos números con decimales\n",
        "    */\n",
        "\n",
        "\n",
        "\n",
        "    public static void main(String[] args) {\n",
        "\n",
        "      double numero01 = 3.14;\n",
        "      double numero02 = 56.25;\n",
        "\n",
        "      double resultadoSuma01 = Calculadora.sumaDecimales( numero01, numero02);\n",
        "\n",
        "      System.out.println(\"El resultado de la suma de \"+numero01+\" y \"+numero02+\" es \"+resultadoSuma01);\n",
        "\n",
        "    }\n",
        "}"
      ],
      "metadata": {
        "id": "A0ohYMaxpUv2"
      },
      "execution_count": null,
      "outputs": []
    },
    {
      "cell_type": "code",
      "source": [
        "!javac Calculadora.java"
      ],
      "metadata": {
        "id": "kJdRohxRqNa6"
      },
      "execution_count": null,
      "outputs": []
    },
    {
      "cell_type": "code",
      "source": [
        "!java Calculadora"
      ],
      "metadata": {
        "id": "6RsV4z4EqNQg"
      },
      "execution_count": null,
      "outputs": []
    }
  ]
}