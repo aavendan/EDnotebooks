{
  "nbformat": 4,
  "nbformat_minor": 0,
  "metadata": {
    "colab": {
      "provenance": [],
      "collapsed_sections": [
        "ubvgsru3khkR",
        "LbQvSr2xxKR8"
      ],
      "authorship_tag": "ABX9TyNPXvbBFcNu8fQwJn1gpQZS",
      "include_colab_link": true
    },
    "kernelspec": {
      "name": "python3",
      "display_name": "Python 3"
    },
    "language_info": {
      "name": "python"
    }
  },
  "cells": [
    {
      "cell_type": "markdown",
      "metadata": {
        "id": "view-in-github",
        "colab_type": "text"
      },
      "source": [
        "<a href=\"https://colab.research.google.com/github/aavendan/EDnotebooks/blob/main/02_Tipos_de_Datos.ipynb\" target=\"_parent\"><img src=\"https://colab.research.google.com/assets/colab-badge.svg\" alt=\"Open In Colab\"/></a>"
      ]
    },
    {
      "cell_type": "markdown",
      "source": [
        "## Antes de comenzar"
      ],
      "metadata": {
        "id": "ubvgsru3khkR"
      }
    },
    {
      "cell_type": "markdown",
      "source": [
        "1. Copia este cuaderno en tu cuenta de **FIEC - Google Drive**.\n",
        "2. Utiliza la copia del cuaderno en tu Google Drive.\n",
        "3. Cierra el cuaderno original."
      ],
      "metadata": {
        "id": "YaZRwg0BkkHJ"
      }
    },
    {
      "cell_type": "markdown",
      "source": [
        "# CCPG1804 - Estructuras de Datos"
      ],
      "metadata": {
        "id": "LbQvSr2xxKR8"
      }
    },
    {
      "cell_type": "markdown",
      "source": [
        "## Tipos de datos primitivos"
      ],
      "metadata": {
        "id": "X5w80az-xoCh"
      }
    },
    {
      "cell_type": "markdown",
      "source": [
        "**Actividad:** Agregue los tipos de datos y asigne el valor para cada una de las variables que se encuentran dentro de la función `main`. Verifique el resultado de la ejecución de la clase."
      ],
      "metadata": {
        "id": "xj956w6wx1zj"
      }
    },
    {
      "cell_type": "code",
      "source": [
        "%%writefile RegistroCivil.java\n",
        "\n",
        "public class RegistroCivil {\n",
        "\n",
        "  public static void main(String[] args) {\n",
        "\n",
        "    anioNacimiento = ;\n",
        "    cedula = ;\n",
        "    nombreCompleto = ;\n",
        "\n",
        "    edad = 2025 - anioNacimiento;\n",
        "\n",
        "    System.out.println(\"Bienvenidx al Registro Civil\");\n",
        "    System.out.println(nombreCompleto);\n",
        "    System.out.println(\"C.C.: \"+cedula);\n",
        "    System.out.println(\"Edad: \"+edad+\" años\");\n",
        "\n",
        "  }\n",
        "\n",
        "}"
      ],
      "metadata": {
        "id": "KSuRrgT1xnfM"
      },
      "execution_count": null,
      "outputs": []
    },
    {
      "cell_type": "code",
      "source": [
        "# Compilación\n",
        "!javac RegistroCivil.java"
      ],
      "metadata": {
        "id": "H8REM2x7YXov"
      },
      "execution_count": null,
      "outputs": []
    },
    {
      "cell_type": "code",
      "source": [
        "# Ejecución\n",
        "!java RegistroCivil"
      ],
      "metadata": {
        "colab": {
          "base_uri": "https://localhost:8080/"
        },
        "id": "1AU669vdYaXC",
        "outputId": "be06cf49-2019-49f1-d499-71f6590d2287"
      },
      "execution_count": null,
      "outputs": [
        {
          "output_type": "stream",
          "name": "stdout",
          "text": [
            "Juan Pérez nació en 1998\n"
          ]
        }
      ]
    },
    {
      "cell_type": "markdown",
      "source": [
        "## Tipos de datos abstractos"
      ],
      "metadata": {
        "id": "U5YT_KhHxRhr"
      }
    },
    {
      "cell_type": "code",
      "source": [
        "%%writefile Persona.java\n",
        "\n",
        "public class Persona {\n",
        "\n",
        "  private String nombre;\n",
        "  private int anioNacimiento;\n",
        "\n",
        "  public Persona() {}\n",
        "\n",
        "  public Persona(String nombre, int anioNacimiento) {\n",
        "    this.nombre = nombre;\n",
        "    this.anioNacimiento = anioNacimiento;\n",
        "  }\n",
        "\n",
        "  public String toString() {\n",
        "    return this.nombre+\" nació en \"+this.anioNacimiento;\n",
        "  }\n",
        "\n",
        "}"
      ],
      "metadata": {
        "colab": {
          "base_uri": "https://localhost:8080/"
        },
        "id": "eOuAwPXEZuQ5",
        "outputId": "05b4c0e8-3cad-4105-a77f-cbf84b5fcae5"
      },
      "execution_count": null,
      "outputs": [
        {
          "output_type": "stream",
          "name": "stdout",
          "text": [
            "Overwriting Persona.java\n"
          ]
        }
      ]
    },
    {
      "cell_type": "code",
      "execution_count": null,
      "metadata": {
        "id": "zxOgard3mb3x",
        "colab": {
          "base_uri": "https://localhost:8080/"
        },
        "outputId": "9f2a9487-24a2-4f22-f041-1eb3b9b277b4"
      },
      "outputs": [
        {
          "output_type": "stream",
          "name": "stdout",
          "text": [
            "Overwriting RegistroCivil.java\n"
          ]
        }
      ],
      "source": [
        "%%writefile RegistroCivil.java\n",
        "\n",
        "public class RegistroCivil {\n",
        "\n",
        "  public static void main(String[] args) {\n",
        "\n",
        "    Persona persona01 = new Persona(\"Juan Pérez\", 1998);\n",
        "\n",
        "    System.out.println( persona01.toString() );\n",
        "\n",
        "  }\n",
        "\n",
        "}"
      ]
    },
    {
      "cell_type": "code",
      "source": [
        "# Compilación\n",
        "!javac Persona.java RegistroCivil.java"
      ],
      "metadata": {
        "id": "x9NecmqbZo2h"
      },
      "execution_count": null,
      "outputs": []
    },
    {
      "cell_type": "code",
      "source": [
        "# Ejecución\n",
        "!java RegistroCivil"
      ],
      "metadata": {
        "colab": {
          "base_uri": "https://localhost:8080/"
        },
        "id": "7ihz5GC7ZquP",
        "outputId": "208fcbc9-6348-4efe-e38b-a31d4d647203"
      },
      "execution_count": null,
      "outputs": [
        {
          "output_type": "stream",
          "name": "stdout",
          "text": [
            "Juan Pérez nació en 1998\n"
          ]
        }
      ]
    },
    {
      "cell_type": "markdown",
      "source": [
        "## Tipos de datos genéricos"
      ],
      "metadata": {
        "id": "eFzCwOLVxWbS"
      }
    },
    {
      "cell_type": "code",
      "source": [],
      "metadata": {
        "id": "UD4aFuzoxb4Y"
      },
      "execution_count": null,
      "outputs": []
    }
  ]
}