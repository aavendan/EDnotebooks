{
  "nbformat": 4,
  "nbformat_minor": 0,
  "metadata": {
    "colab": {
      "provenance": [],
      "collapsed_sections": [
        "48cQNbq-m2Pq"
      ],
      "authorship_tag": "ABX9TyNi8Zly/nyER0t8EQXiTXs7",
      "include_colab_link": true
    },
    "kernelspec": {
      "name": "python3",
      "display_name": "Python 3"
    },
    "language_info": {
      "name": "python"
    }
  },
  "cells": [
    {
      "cell_type": "markdown",
      "metadata": {
        "id": "view-in-github",
        "colab_type": "text"
      },
      "source": [
        "<a href=\"https://colab.research.google.com/github/aavendan/EDnotebooks/blob/main/04_Tipos_de_Datos_Abstractos.ipynb\" target=\"_parent\"><img src=\"https://colab.research.google.com/assets/colab-badge.svg\" alt=\"Open In Colab\"/></a>"
      ]
    },
    {
      "cell_type": "markdown",
      "source": [
        "## Antes de comenzar"
      ],
      "metadata": {
        "id": "48cQNbq-m2Pq"
      }
    },
    {
      "cell_type": "markdown",
      "source": [
        "1. Copia este cuaderno en tu cuenta de **FIEC - Google Drive**.\n",
        "2. Utiliza la copia del cuaderno en tu Google Drive.\n",
        "3. Cierra el cuaderno original."
      ],
      "metadata": {
        "id": "kzeFWdfZm3Mm"
      }
    },
    {
      "cell_type": "markdown",
      "source": [
        "# CCPG1804 - Estructuras de Datos"
      ],
      "metadata": {
        "id": "SvS9rD2Gm5UK"
      }
    },
    {
      "cell_type": "code",
      "execution_count": null,
      "metadata": {
        "id": "ktKB5u0vmTss"
      },
      "outputs": [],
      "source": []
    }
  ]
}